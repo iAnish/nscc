{
 "cells": [
  {
   "cell_type": "code",
   "execution_count": 1,
   "id": "cc4bd9e9",
   "metadata": {
    "slideshow": {
     "slide_type": "skip"
    }
   },
   "outputs": [
    {
     "name": "stderr",
     "output_type": "stream",
     "text": [
      "2024-04-17 21:23:51,715\tINFO util.py:154 -- Outdated packages:\n",
      "  ipywidgets==7.6.5 found, needs ipywidgets>=8\n",
      "Run `pip install -U ipywidgets`, then restart the notebook server for rich notebook output.\n"
     ]
    }
   ],
   "source": [
    "# To run this notebook as done in the README GIFs, you must first locally download the 2015 NYC Taxi Trip Data.\n",
    "# import urllib.request\n",
    "# url_path = \"https://modin-datasets.intel.com/green-taxi/green_tripdata_2015-01.csv\"\n",
    "# urllib.request.urlretrieve(url_path, \"taxi.csv\")\n",
    "\n",
    "from modin.config import Engine\n",
    "Engine.put(\"dask\")\n",
    "from dask.distributed import Client\n",
    "client = Client(n_workers=12)\n",
    "\n",
    "from modin.config import BenchmarkMode\n",
    "BenchmarkMode.put(False)"
   ]
  },
  {
   "cell_type": "code",
   "execution_count": 2,
   "id": "97b245e5",
   "metadata": {
    "slideshow": {
     "slide_type": "slide"
    }
   },
   "outputs": [],
   "source": [
    "import pandas as pd"
   ]
  },
  {
   "cell_type": "code",
   "execution_count": 3,
   "id": "b65b121c",
   "metadata": {
    "slideshow": {
     "slide_type": "slide"
    }
   },
   "outputs": [
    {
     "name": "stdout",
     "output_type": "stream",
     "text": [
      "CPU times: user 1.79 s, sys: 300 ms, total: 2.09 s\n",
      "Wall time: 2 s\n"
     ]
    }
   ],
   "source": [
    "%time df = pd.read_csv(\"taxi.csv\", parse_dates=[\"tpep_pickup_datetime\", \"tpep_dropoff_datetime\"], quoting=3)"
   ]
  },
  {
   "cell_type": "code",
   "execution_count": 4,
   "id": "c48193b2",
   "metadata": {
    "slideshow": {
     "slide_type": "slide"
    }
   },
   "outputs": [
    {
     "name": "stdout",
     "output_type": "stream",
     "text": [
      "CPU times: user 39.6 ms, sys: 2.37 ms, total: 42 ms\n",
      "Wall time: 39.7 ms\n"
     ]
    }
   ],
   "source": [
    "%time isnull = df.isnull()"
   ]
  },
  {
   "cell_type": "code",
   "execution_count": 5,
   "id": "1d32ed7c",
   "metadata": {
    "slideshow": {
     "slide_type": "slide"
    }
   },
   "outputs": [
    {
     "name": "stderr",
     "output_type": "stream",
     "text": [
      "FutureWarning: DataFrame.applymap has been deprecated. Use DataFrame.map instead.\n"
     ]
    },
    {
     "name": "stdout",
     "output_type": "stream",
     "text": [
      "CPU times: user 187 ms, sys: 34.5 ms, total: 221 ms\n",
      "Wall time: 218 ms\n"
     ]
    }
   ],
   "source": [
    "%time rounded_trip_distance = df[[\"pickup_longitude\"]].applymap(round)"
   ]
  },
  {
   "cell_type": "code",
   "execution_count": null,
   "id": "3ef271dc",
   "metadata": {},
   "outputs": [],
   "source": []
  }
 ],
 "metadata": {
  "kernelspec": {
   "display_name": "Python 3 (ipykernel)",
   "language": "python",
   "name": "python3"
  },
  "language_info": {
   "codemirror_mode": {
    "name": "ipython",
    "version": 3
   },
   "file_extension": ".py",
   "mimetype": "text/x-python",
   "name": "python",
   "nbconvert_exporter": "python",
   "pygments_lexer": "ipython3",
   "version": "3.9.15"
  }
 },
 "nbformat": 4,
 "nbformat_minor": 5
}
