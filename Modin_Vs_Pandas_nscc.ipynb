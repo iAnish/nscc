{
 "cells": [
  {
   "cell_type": "code",
   "execution_count": 1,
   "metadata": {
    "colab": {
     "base_uri": "https://localhost:8080/",
     "height": 1000
    },
    "id": "vCWPPFUMIKiX",
    "outputId": "b3702491-873d-45dc-ae14-406bdb0b4a0e"
   },
   "outputs": [
    {
     "name": "stdout",
     "output_type": "stream",
     "text": [
      "Looking in indexes: https://pypi.org/simple, https://pypi.ngc.nvidia.com\n",
      "Requirement already satisfied: modin[all] in ./modin_cpu/lib/python3.9/site-packages (0.29.0)\n",
      "Requirement already satisfied: pandas<2.3,>=2.2 in ./modin_cpu/lib/python3.9/site-packages (from modin[all]) (2.2.2)\n",
      "Requirement already satisfied: packaging>=21.0 in ./modin_cpu/lib/python3.9/site-packages (from modin[all]) (24.0)\n",
      "Requirement already satisfied: numpy>=1.22.4 in ./modin_cpu/lib/python3.9/site-packages (from modin[all]) (1.26.4)\n",
      "Requirement already satisfied: fsspec>=2022.11.0 in ./modin_cpu/lib/python3.9/site-packages (from modin[all]) (2024.3.1)\n",
      "Requirement already satisfied: psutil>=5.8.0 in ./modin_cpu/lib/python3.9/site-packages (from modin[all]) (5.9.8)\n",
      "Requirement already satisfied: dask>=2.22.0 in ./modin_cpu/lib/python3.9/site-packages (from modin[all]) (2024.4.1)\n",
      "Requirement already satisfied: distributed>=2.22.0 in ./modin_cpu/lib/python3.9/site-packages (from modin[all]) (2024.4.1)\n",
      "Requirement already satisfied: ray!=2.5.0,>=2.1.0 in ./modin_cpu/lib/python3.9/site-packages (from ray[default]!=2.5.0,>=2.1.0; extra == \"all\"->modin[all]) (2.10.0)\n",
      "Requirement already satisfied: pyarrow>=7.0.0 in ./modin_cpu/lib/python3.9/site-packages (from modin[all]) (15.0.2)\n",
      "Requirement already satisfied: modin-spreadsheet>=0.1.0 in ./modin_cpu/lib/python3.9/site-packages (from modin[all]) (0.1.2)\n",
      "Requirement already satisfied: click>=8.1 in ./modin_cpu/lib/python3.9/site-packages (from dask>=2.22.0->modin[all]) (8.1.7)\n",
      "Requirement already satisfied: cloudpickle>=1.5.0 in ./modin_cpu/lib/python3.9/site-packages (from dask>=2.22.0->modin[all]) (3.0.0)\n",
      "Requirement already satisfied: partd>=1.2.0 in ./modin_cpu/lib/python3.9/site-packages (from dask>=2.22.0->modin[all]) (1.4.1)\n",
      "Requirement already satisfied: pyyaml>=5.3.1 in ./modin_cpu/lib/python3.9/site-packages (from dask>=2.22.0->modin[all]) (6.0.1)\n",
      "Requirement already satisfied: toolz>=0.10.0 in ./modin_cpu/lib/python3.9/site-packages (from dask>=2.22.0->modin[all]) (0.12.1)\n",
      "Requirement already satisfied: importlib-metadata>=4.13.0 in ./modin_cpu/lib/python3.9/site-packages (from dask>=2.22.0->modin[all]) (7.1.0)\n",
      "Requirement already satisfied: jinja2>=2.10.3 in ./modin_cpu/lib/python3.9/site-packages (from distributed>=2.22.0->modin[all]) (3.1.3)\n",
      "Requirement already satisfied: locket>=1.0.0 in ./modin_cpu/lib/python3.9/site-packages (from distributed>=2.22.0->modin[all]) (1.0.0)\n",
      "Requirement already satisfied: msgpack>=1.0.0 in ./modin_cpu/lib/python3.9/site-packages (from distributed>=2.22.0->modin[all]) (1.0.8)\n",
      "Requirement already satisfied: sortedcontainers>=2.0.5 in ./modin_cpu/lib/python3.9/site-packages (from distributed>=2.22.0->modin[all]) (2.4.0)\n",
      "Requirement already satisfied: tblib>=1.6.0 in ./modin_cpu/lib/python3.9/site-packages (from distributed>=2.22.0->modin[all]) (3.0.0)\n",
      "Requirement already satisfied: tornado>=6.0.4 in ./modin_cpu/lib/python3.9/site-packages (from distributed>=2.22.0->modin[all]) (6.4)\n",
      "Requirement already satisfied: urllib3>=1.24.3 in ./modin_cpu/lib/python3.9/site-packages (from distributed>=2.22.0->modin[all]) (2.2.1)\n",
      "Requirement already satisfied: zict>=3.0.0 in ./modin_cpu/lib/python3.9/site-packages (from distributed>=2.22.0->modin[all]) (3.0.0)\n",
      "Requirement already satisfied: jupyter>=1.0.0 in ./modin_cpu/lib/python3.9/site-packages (from modin-spreadsheet>=0.1.0->modin[all]) (1.0.0)\n",
      "Requirement already satisfied: notebook>=6.0.3 in ./modin_cpu/lib/python3.9/site-packages (from modin-spreadsheet>=0.1.0->modin[all]) (7.1.2)\n",
      "Requirement already satisfied: ipywidgets>=7.0.0 in ./modin_cpu/lib/python3.9/site-packages (from modin-spreadsheet>=0.1.0->modin[all]) (8.1.2)\n",
      "Requirement already satisfied: python-dateutil>=2.8.2 in ./modin_cpu/lib/python3.9/site-packages (from pandas<2.3,>=2.2->modin[all]) (2.9.0.post0)\n",
      "Requirement already satisfied: pytz>=2020.1 in ./modin_cpu/lib/python3.9/site-packages (from pandas<2.3,>=2.2->modin[all]) (2024.1)\n",
      "Requirement already satisfied: tzdata>=2022.7 in ./modin_cpu/lib/python3.9/site-packages (from pandas<2.3,>=2.2->modin[all]) (2024.1)\n",
      "Requirement already satisfied: filelock in ./modin_cpu/lib/python3.9/site-packages (from ray!=2.5.0,>=2.1.0->ray[default]!=2.5.0,>=2.1.0; extra == \"all\"->modin[all]) (3.13.4)\n",
      "Requirement already satisfied: jsonschema in ./modin_cpu/lib/python3.9/site-packages (from ray!=2.5.0,>=2.1.0->ray[default]!=2.5.0,>=2.1.0; extra == \"all\"->modin[all]) (4.21.1)\n",
      "Requirement already satisfied: protobuf!=3.19.5,>=3.15.3 in ./modin_cpu/lib/python3.9/site-packages (from ray!=2.5.0,>=2.1.0->ray[default]!=2.5.0,>=2.1.0; extra == \"all\"->modin[all]) (3.20.3)\n",
      "Requirement already satisfied: aiosignal in ./modin_cpu/lib/python3.9/site-packages (from ray!=2.5.0,>=2.1.0->ray[default]!=2.5.0,>=2.1.0; extra == \"all\"->modin[all]) (1.3.1)\n",
      "Requirement already satisfied: frozenlist in ./modin_cpu/lib/python3.9/site-packages (from ray!=2.5.0,>=2.1.0->ray[default]!=2.5.0,>=2.1.0; extra == \"all\"->modin[all]) (1.4.1)\n",
      "Requirement already satisfied: requests in ./modin_cpu/lib/python3.9/site-packages (from ray!=2.5.0,>=2.1.0->ray[default]!=2.5.0,>=2.1.0; extra == \"all\"->modin[all]) (2.31.0)\n",
      "Requirement already satisfied: aiohttp>=3.7 in ./modin_cpu/lib/python3.9/site-packages (from ray[default]!=2.5.0,>=2.1.0; extra == \"all\"->modin[all]) (3.9.5)\n",
      "Requirement already satisfied: aiohttp-cors in ./modin_cpu/lib/python3.9/site-packages (from ray[default]!=2.5.0,>=2.1.0; extra == \"all\"->modin[all]) (0.7.0)\n",
      "Requirement already satisfied: colorful in ./modin_cpu/lib/python3.9/site-packages (from ray[default]!=2.5.0,>=2.1.0; extra == \"all\"->modin[all]) (0.5.6)\n",
      "Requirement already satisfied: py-spy>=0.2.0 in ./modin_cpu/lib/python3.9/site-packages (from ray[default]!=2.5.0,>=2.1.0; extra == \"all\"->modin[all]) (0.3.14)\n",
      "Requirement already satisfied: opencensus in ./modin_cpu/lib/python3.9/site-packages (from ray[default]!=2.5.0,>=2.1.0; extra == \"all\"->modin[all]) (0.11.4)\n",
      "Requirement already satisfied: pydantic!=2.0.*,!=2.1.*,!=2.2.*,!=2.3.*,!=2.4.*,<3 in ./modin_cpu/lib/python3.9/site-packages (from ray[default]!=2.5.0,>=2.1.0; extra == \"all\"->modin[all]) (2.7.0)\n",
      "Requirement already satisfied: prometheus-client>=0.7.1 in ./modin_cpu/lib/python3.9/site-packages (from ray[default]!=2.5.0,>=2.1.0; extra == \"all\"->modin[all]) (0.20.0)\n",
      "Requirement already satisfied: smart-open in ./modin_cpu/lib/python3.9/site-packages (from ray[default]!=2.5.0,>=2.1.0; extra == \"all\"->modin[all]) (7.0.4)\n",
      "Requirement already satisfied: virtualenv!=20.21.1,>=20.0.24 in ./modin_cpu/lib/python3.9/site-packages (from ray[default]!=2.5.0,>=2.1.0; extra == \"all\"->modin[all]) (20.25.3)\n",
      "Requirement already satisfied: grpcio>=1.32.0 in ./modin_cpu/lib/python3.9/site-packages (from ray[default]!=2.5.0,>=2.1.0; extra == \"all\"->modin[all]) (1.62.1)\n",
      "Requirement already satisfied: attrs>=17.3.0 in ./modin_cpu/lib/python3.9/site-packages (from aiohttp>=3.7->ray[default]!=2.5.0,>=2.1.0; extra == \"all\"->modin[all]) (23.2.0)\n",
      "Requirement already satisfied: multidict<7.0,>=4.5 in ./modin_cpu/lib/python3.9/site-packages (from aiohttp>=3.7->ray[default]!=2.5.0,>=2.1.0; extra == \"all\"->modin[all]) (6.0.5)\n",
      "Requirement already satisfied: yarl<2.0,>=1.0 in ./modin_cpu/lib/python3.9/site-packages (from aiohttp>=3.7->ray[default]!=2.5.0,>=2.1.0; extra == \"all\"->modin[all]) (1.9.4)\n",
      "Requirement already satisfied: async-timeout<5.0,>=4.0 in ./modin_cpu/lib/python3.9/site-packages (from aiohttp>=3.7->ray[default]!=2.5.0,>=2.1.0; extra == \"all\"->modin[all]) (4.0.3)\n",
      "Requirement already satisfied: zipp>=0.5 in ./modin_cpu/lib/python3.9/site-packages (from importlib-metadata>=4.13.0->dask>=2.22.0->modin[all]) (3.18.1)\n",
      "Requirement already satisfied: comm>=0.1.3 in ./modin_cpu/lib/python3.9/site-packages (from ipywidgets>=7.0.0->modin-spreadsheet>=0.1.0->modin[all]) (0.2.2)\n",
      "Requirement already satisfied: ipython>=6.1.0 in ./modin_cpu/lib/python3.9/site-packages (from ipywidgets>=7.0.0->modin-spreadsheet>=0.1.0->modin[all]) (8.18.1)\n",
      "Requirement already satisfied: traitlets>=4.3.1 in ./modin_cpu/lib/python3.9/site-packages (from ipywidgets>=7.0.0->modin-spreadsheet>=0.1.0->modin[all]) (5.14.2)\n",
      "Requirement already satisfied: widgetsnbextension~=4.0.10 in ./modin_cpu/lib/python3.9/site-packages (from ipywidgets>=7.0.0->modin-spreadsheet>=0.1.0->modin[all]) (4.0.10)\n",
      "Requirement already satisfied: jupyterlab-widgets~=3.0.10 in ./modin_cpu/lib/python3.9/site-packages (from ipywidgets>=7.0.0->modin-spreadsheet>=0.1.0->modin[all]) (3.0.10)\n",
      "Requirement already satisfied: MarkupSafe>=2.0 in ./modin_cpu/lib/python3.9/site-packages (from jinja2>=2.10.3->distributed>=2.22.0->modin[all]) (2.1.5)\n",
      "Requirement already satisfied: qtconsole in ./modin_cpu/lib/python3.9/site-packages (from jupyter>=1.0.0->modin-spreadsheet>=0.1.0->modin[all]) (5.5.1)\n",
      "Requirement already satisfied: jupyter-console in ./modin_cpu/lib/python3.9/site-packages (from jupyter>=1.0.0->modin-spreadsheet>=0.1.0->modin[all]) (6.6.3)\n",
      "Requirement already satisfied: nbconvert in ./modin_cpu/lib/python3.9/site-packages (from jupyter>=1.0.0->modin-spreadsheet>=0.1.0->modin[all]) (7.16.3)\n",
      "Requirement already satisfied: ipykernel in ./modin_cpu/lib/python3.9/site-packages (from jupyter>=1.0.0->modin-spreadsheet>=0.1.0->modin[all]) (6.29.4)\n",
      "Requirement already satisfied: jupyter-server<3,>=2.4.0 in ./modin_cpu/lib/python3.9/site-packages (from notebook>=6.0.3->modin-spreadsheet>=0.1.0->modin[all]) (2.14.0)\n",
      "Requirement already satisfied: jupyterlab-server<3,>=2.22.1 in ./modin_cpu/lib/python3.9/site-packages (from notebook>=6.0.3->modin-spreadsheet>=0.1.0->modin[all]) (2.26.0)\n",
      "Requirement already satisfied: jupyterlab<4.2,>=4.1.1 in ./modin_cpu/lib/python3.9/site-packages (from notebook>=6.0.3->modin-spreadsheet>=0.1.0->modin[all]) (4.1.6)\n",
      "Requirement already satisfied: notebook-shim<0.3,>=0.2 in ./modin_cpu/lib/python3.9/site-packages (from notebook>=6.0.3->modin-spreadsheet>=0.1.0->modin[all]) (0.2.4)\n",
      "Requirement already satisfied: annotated-types>=0.4.0 in ./modin_cpu/lib/python3.9/site-packages (from pydantic!=2.0.*,!=2.1.*,!=2.2.*,!=2.3.*,!=2.4.*,<3->ray[default]!=2.5.0,>=2.1.0; extra == \"all\"->modin[all]) (0.6.0)\n",
      "Requirement already satisfied: pydantic-core==2.18.1 in ./modin_cpu/lib/python3.9/site-packages (from pydantic!=2.0.*,!=2.1.*,!=2.2.*,!=2.3.*,!=2.4.*,<3->ray[default]!=2.5.0,>=2.1.0; extra == \"all\"->modin[all]) (2.18.1)\n",
      "Requirement already satisfied: typing-extensions>=4.6.1 in ./modin_cpu/lib/python3.9/site-packages (from pydantic!=2.0.*,!=2.1.*,!=2.2.*,!=2.3.*,!=2.4.*,<3->ray[default]!=2.5.0,>=2.1.0; extra == \"all\"->modin[all]) (4.11.0)\n",
      "Requirement already satisfied: six>=1.5 in ./modin_cpu/lib/python3.9/site-packages (from python-dateutil>=2.8.2->pandas<2.3,>=2.2->modin[all]) (1.16.0)\n",
      "Requirement already satisfied: distlib<1,>=0.3.7 in ./modin_cpu/lib/python3.9/site-packages (from virtualenv!=20.21.1,>=20.0.24->ray[default]!=2.5.0,>=2.1.0; extra == \"all\"->modin[all]) (0.3.8)\n",
      "Requirement already satisfied: platformdirs<5,>=3.9.1 in ./modin_cpu/lib/python3.9/site-packages (from virtualenv!=20.21.1,>=20.0.24->ray[default]!=2.5.0,>=2.1.0; extra == \"all\"->modin[all]) (4.2.0)\n",
      "Requirement already satisfied: jsonschema-specifications>=2023.03.6 in ./modin_cpu/lib/python3.9/site-packages (from jsonschema->ray!=2.5.0,>=2.1.0->ray[default]!=2.5.0,>=2.1.0; extra == \"all\"->modin[all]) (2023.12.1)\n",
      "Requirement already satisfied: referencing>=0.28.4 in ./modin_cpu/lib/python3.9/site-packages (from jsonschema->ray!=2.5.0,>=2.1.0->ray[default]!=2.5.0,>=2.1.0; extra == \"all\"->modin[all]) (0.34.0)\n",
      "Requirement already satisfied: rpds-py>=0.7.1 in ./modin_cpu/lib/python3.9/site-packages (from jsonschema->ray!=2.5.0,>=2.1.0->ray[default]!=2.5.0,>=2.1.0; extra == \"all\"->modin[all]) (0.18.0)\n",
      "Requirement already satisfied: opencensus-context>=0.1.3 in ./modin_cpu/lib/python3.9/site-packages (from opencensus->ray[default]!=2.5.0,>=2.1.0; extra == \"all\"->modin[all]) (0.1.3)\n",
      "Requirement already satisfied: google-api-core<3.0.0,>=1.0.0 in ./modin_cpu/lib/python3.9/site-packages (from opencensus->ray[default]!=2.5.0,>=2.1.0; extra == \"all\"->modin[all]) (2.18.0)\n",
      "Requirement already satisfied: charset-normalizer<4,>=2 in ./modin_cpu/lib/python3.9/site-packages (from requests->ray!=2.5.0,>=2.1.0->ray[default]!=2.5.0,>=2.1.0; extra == \"all\"->modin[all]) (3.3.2)\n",
      "Requirement already satisfied: idna<4,>=2.5 in ./modin_cpu/lib/python3.9/site-packages (from requests->ray!=2.5.0,>=2.1.0->ray[default]!=2.5.0,>=2.1.0; extra == \"all\"->modin[all]) (3.7)\n",
      "Requirement already satisfied: certifi>=2017.4.17 in ./modin_cpu/lib/python3.9/site-packages (from requests->ray!=2.5.0,>=2.1.0->ray[default]!=2.5.0,>=2.1.0; extra == \"all\"->modin[all]) (2024.2.2)\n",
      "Requirement already satisfied: wrapt in ./modin_cpu/lib/python3.9/site-packages (from smart-open->ray[default]!=2.5.0,>=2.1.0; extra == \"all\"->modin[all]) (1.16.0)\n",
      "Requirement already satisfied: googleapis-common-protos<2.0.dev0,>=1.56.2 in ./modin_cpu/lib/python3.9/site-packages (from google-api-core<3.0.0,>=1.0.0->opencensus->ray[default]!=2.5.0,>=2.1.0; extra == \"all\"->modin[all]) (1.63.0)\n",
      "Requirement already satisfied: proto-plus<2.0.0dev,>=1.22.3 in ./modin_cpu/lib/python3.9/site-packages (from google-api-core<3.0.0,>=1.0.0->opencensus->ray[default]!=2.5.0,>=2.1.0; extra == \"all\"->modin[all]) (1.23.0)\n",
      "Requirement already satisfied: google-auth<3.0.dev0,>=2.14.1 in ./modin_cpu/lib/python3.9/site-packages (from google-api-core<3.0.0,>=1.0.0->opencensus->ray[default]!=2.5.0,>=2.1.0; extra == \"all\"->modin[all]) (2.29.0)\n",
      "Requirement already satisfied: decorator in ./modin_cpu/lib/python3.9/site-packages (from ipython>=6.1.0->ipywidgets>=7.0.0->modin-spreadsheet>=0.1.0->modin[all]) (5.1.1)\n",
      "Requirement already satisfied: jedi>=0.16 in ./modin_cpu/lib/python3.9/site-packages (from ipython>=6.1.0->ipywidgets>=7.0.0->modin-spreadsheet>=0.1.0->modin[all]) (0.19.1)\n",
      "Requirement already satisfied: matplotlib-inline in ./modin_cpu/lib/python3.9/site-packages (from ipython>=6.1.0->ipywidgets>=7.0.0->modin-spreadsheet>=0.1.0->modin[all]) (0.1.7)\n",
      "Requirement already satisfied: prompt-toolkit<3.1.0,>=3.0.41 in ./modin_cpu/lib/python3.9/site-packages (from ipython>=6.1.0->ipywidgets>=7.0.0->modin-spreadsheet>=0.1.0->modin[all]) (3.0.43)\n",
      "Requirement already satisfied: pygments>=2.4.0 in ./modin_cpu/lib/python3.9/site-packages (from ipython>=6.1.0->ipywidgets>=7.0.0->modin-spreadsheet>=0.1.0->modin[all]) (2.17.2)\n",
      "Requirement already satisfied: stack-data in ./modin_cpu/lib/python3.9/site-packages (from ipython>=6.1.0->ipywidgets>=7.0.0->modin-spreadsheet>=0.1.0->modin[all]) (0.6.3)\n",
      "Requirement already satisfied: exceptiongroup in ./modin_cpu/lib/python3.9/site-packages (from ipython>=6.1.0->ipywidgets>=7.0.0->modin-spreadsheet>=0.1.0->modin[all]) (1.2.0)\n",
      "Requirement already satisfied: pexpect>4.3 in ./modin_cpu/lib/python3.9/site-packages (from ipython>=6.1.0->ipywidgets>=7.0.0->modin-spreadsheet>=0.1.0->modin[all]) (4.9.0)\n",
      "Requirement already satisfied: anyio>=3.1.0 in ./modin_cpu/lib/python3.9/site-packages (from jupyter-server<3,>=2.4.0->notebook>=6.0.3->modin-spreadsheet>=0.1.0->modin[all]) (4.3.0)\n",
      "Requirement already satisfied: argon2-cffi>=21.1 in ./modin_cpu/lib/python3.9/site-packages (from jupyter-server<3,>=2.4.0->notebook>=6.0.3->modin-spreadsheet>=0.1.0->modin[all]) (23.1.0)\n",
      "Requirement already satisfied: jupyter-client>=7.4.4 in ./modin_cpu/lib/python3.9/site-packages (from jupyter-server<3,>=2.4.0->notebook>=6.0.3->modin-spreadsheet>=0.1.0->modin[all]) (8.6.1)\n",
      "Requirement already satisfied: jupyter-core!=5.0.*,>=4.12 in ./modin_cpu/lib/python3.9/site-packages (from jupyter-server<3,>=2.4.0->notebook>=6.0.3->modin-spreadsheet>=0.1.0->modin[all]) (5.7.2)\n",
      "Requirement already satisfied: jupyter-events>=0.9.0 in ./modin_cpu/lib/python3.9/site-packages (from jupyter-server<3,>=2.4.0->notebook>=6.0.3->modin-spreadsheet>=0.1.0->modin[all]) (0.10.0)\n",
      "Requirement already satisfied: jupyter-server-terminals>=0.4.4 in ./modin_cpu/lib/python3.9/site-packages (from jupyter-server<3,>=2.4.0->notebook>=6.0.3->modin-spreadsheet>=0.1.0->modin[all]) (0.5.3)\n",
      "Requirement already satisfied: nbformat>=5.3.0 in ./modin_cpu/lib/python3.9/site-packages (from jupyter-server<3,>=2.4.0->notebook>=6.0.3->modin-spreadsheet>=0.1.0->modin[all]) (5.10.4)\n",
      "Requirement already satisfied: overrides>=5.0 in ./modin_cpu/lib/python3.9/site-packages (from jupyter-server<3,>=2.4.0->notebook>=6.0.3->modin-spreadsheet>=0.1.0->modin[all]) (7.7.0)\n",
      "Requirement already satisfied: pyzmq>=24 in ./modin_cpu/lib/python3.9/site-packages (from jupyter-server<3,>=2.4.0->notebook>=6.0.3->modin-spreadsheet>=0.1.0->modin[all]) (26.0.0)\n",
      "Requirement already satisfied: send2trash>=1.8.2 in ./modin_cpu/lib/python3.9/site-packages (from jupyter-server<3,>=2.4.0->notebook>=6.0.3->modin-spreadsheet>=0.1.0->modin[all]) (1.8.3)\n",
      "Requirement already satisfied: terminado>=0.8.3 in ./modin_cpu/lib/python3.9/site-packages (from jupyter-server<3,>=2.4.0->notebook>=6.0.3->modin-spreadsheet>=0.1.0->modin[all]) (0.18.1)\n",
      "Requirement already satisfied: websocket-client>=1.7 in ./modin_cpu/lib/python3.9/site-packages (from jupyter-server<3,>=2.4.0->notebook>=6.0.3->modin-spreadsheet>=0.1.0->modin[all]) (1.7.0)\n",
      "Requirement already satisfied: async-lru>=1.0.0 in ./modin_cpu/lib/python3.9/site-packages (from jupyterlab<4.2,>=4.1.1->notebook>=6.0.3->modin-spreadsheet>=0.1.0->modin[all]) (2.0.4)\n",
      "Requirement already satisfied: httpx>=0.25.0 in ./modin_cpu/lib/python3.9/site-packages (from jupyterlab<4.2,>=4.1.1->notebook>=6.0.3->modin-spreadsheet>=0.1.0->modin[all]) (0.27.0)\n",
      "Requirement already satisfied: jupyter-lsp>=2.0.0 in ./modin_cpu/lib/python3.9/site-packages (from jupyterlab<4.2,>=4.1.1->notebook>=6.0.3->modin-spreadsheet>=0.1.0->modin[all]) (2.2.5)\n",
      "Requirement already satisfied: tomli>=1.2.2 in ./modin_cpu/lib/python3.9/site-packages (from jupyterlab<4.2,>=4.1.1->notebook>=6.0.3->modin-spreadsheet>=0.1.0->modin[all]) (2.0.1)\n",
      "Requirement already satisfied: debugpy>=1.6.5 in ./modin_cpu/lib/python3.9/site-packages (from ipykernel->jupyter>=1.0.0->modin-spreadsheet>=0.1.0->modin[all]) (1.8.1)\n",
      "Requirement already satisfied: nest-asyncio in ./modin_cpu/lib/python3.9/site-packages (from ipykernel->jupyter>=1.0.0->modin-spreadsheet>=0.1.0->modin[all]) (1.6.0)\n",
      "Requirement already satisfied: babel>=2.10 in ./modin_cpu/lib/python3.9/site-packages (from jupyterlab-server<3,>=2.22.1->notebook>=6.0.3->modin-spreadsheet>=0.1.0->modin[all]) (2.14.0)\n",
      "Requirement already satisfied: json5>=0.9.0 in ./modin_cpu/lib/python3.9/site-packages (from jupyterlab-server<3,>=2.22.1->notebook>=6.0.3->modin-spreadsheet>=0.1.0->modin[all]) (0.9.25)\n",
      "Requirement already satisfied: beautifulsoup4 in ./modin_cpu/lib/python3.9/site-packages (from nbconvert->jupyter>=1.0.0->modin-spreadsheet>=0.1.0->modin[all]) (4.12.3)\n",
      "Requirement already satisfied: bleach!=5.0.0 in ./modin_cpu/lib/python3.9/site-packages (from nbconvert->jupyter>=1.0.0->modin-spreadsheet>=0.1.0->modin[all]) (6.1.0)\n",
      "Requirement already satisfied: defusedxml in ./modin_cpu/lib/python3.9/site-packages (from nbconvert->jupyter>=1.0.0->modin-spreadsheet>=0.1.0->modin[all]) (0.7.1)\n",
      "Requirement already satisfied: jupyterlab-pygments in ./modin_cpu/lib/python3.9/site-packages (from nbconvert->jupyter>=1.0.0->modin-spreadsheet>=0.1.0->modin[all]) (0.3.0)\n",
      "Requirement already satisfied: mistune<4,>=2.0.3 in ./modin_cpu/lib/python3.9/site-packages (from nbconvert->jupyter>=1.0.0->modin-spreadsheet>=0.1.0->modin[all]) (3.0.2)\n",
      "Requirement already satisfied: nbclient>=0.5.0 in ./modin_cpu/lib/python3.9/site-packages (from nbconvert->jupyter>=1.0.0->modin-spreadsheet>=0.1.0->modin[all]) (0.10.0)\n",
      "Requirement already satisfied: pandocfilters>=1.4.1 in ./modin_cpu/lib/python3.9/site-packages (from nbconvert->jupyter>=1.0.0->modin-spreadsheet>=0.1.0->modin[all]) (1.5.1)\n",
      "Requirement already satisfied: tinycss2 in ./modin_cpu/lib/python3.9/site-packages (from nbconvert->jupyter>=1.0.0->modin-spreadsheet>=0.1.0->modin[all]) (1.2.1)\n",
      "Requirement already satisfied: qtpy>=2.4.0 in ./modin_cpu/lib/python3.9/site-packages (from qtconsole->jupyter>=1.0.0->modin-spreadsheet>=0.1.0->modin[all]) (2.4.1)\n",
      "Requirement already satisfied: sniffio>=1.1 in ./modin_cpu/lib/python3.9/site-packages (from anyio>=3.1.0->jupyter-server<3,>=2.4.0->notebook>=6.0.3->modin-spreadsheet>=0.1.0->modin[all]) (1.3.1)\n",
      "Requirement already satisfied: argon2-cffi-bindings in ./modin_cpu/lib/python3.9/site-packages (from argon2-cffi>=21.1->jupyter-server<3,>=2.4.0->notebook>=6.0.3->modin-spreadsheet>=0.1.0->modin[all]) (21.2.0)\n",
      "Requirement already satisfied: webencodings in ./modin_cpu/lib/python3.9/site-packages (from bleach!=5.0.0->nbconvert->jupyter>=1.0.0->modin-spreadsheet>=0.1.0->modin[all]) (0.5.1)\n",
      "Requirement already satisfied: cachetools<6.0,>=2.0.0 in ./modin_cpu/lib/python3.9/site-packages (from google-auth<3.0.dev0,>=2.14.1->google-api-core<3.0.0,>=1.0.0->opencensus->ray[default]!=2.5.0,>=2.1.0; extra == \"all\"->modin[all]) (5.3.3)\n",
      "Requirement already satisfied: pyasn1-modules>=0.2.1 in ./modin_cpu/lib/python3.9/site-packages (from google-auth<3.0.dev0,>=2.14.1->google-api-core<3.0.0,>=1.0.0->opencensus->ray[default]!=2.5.0,>=2.1.0; extra == \"all\"->modin[all]) (0.4.0)\n",
      "Requirement already satisfied: rsa<5,>=3.1.4 in ./modin_cpu/lib/python3.9/site-packages (from google-auth<3.0.dev0,>=2.14.1->google-api-core<3.0.0,>=1.0.0->opencensus->ray[default]!=2.5.0,>=2.1.0; extra == \"all\"->modin[all]) (4.9)\n",
      "Requirement already satisfied: httpcore==1.* in ./modin_cpu/lib/python3.9/site-packages (from httpx>=0.25.0->jupyterlab<4.2,>=4.1.1->notebook>=6.0.3->modin-spreadsheet>=0.1.0->modin[all]) (1.0.5)\n",
      "Requirement already satisfied: h11<0.15,>=0.13 in ./modin_cpu/lib/python3.9/site-packages (from httpcore==1.*->httpx>=0.25.0->jupyterlab<4.2,>=4.1.1->notebook>=6.0.3->modin-spreadsheet>=0.1.0->modin[all]) (0.14.0)\n",
      "Requirement already satisfied: parso<0.9.0,>=0.8.3 in ./modin_cpu/lib/python3.9/site-packages (from jedi>=0.16->ipython>=6.1.0->ipywidgets>=7.0.0->modin-spreadsheet>=0.1.0->modin[all]) (0.8.4)\n",
      "Requirement already satisfied: python-json-logger>=2.0.4 in ./modin_cpu/lib/python3.9/site-packages (from jupyter-events>=0.9.0->jupyter-server<3,>=2.4.0->notebook>=6.0.3->modin-spreadsheet>=0.1.0->modin[all]) (2.0.7)\n",
      "Requirement already satisfied: rfc3339-validator in ./modin_cpu/lib/python3.9/site-packages (from jupyter-events>=0.9.0->jupyter-server<3,>=2.4.0->notebook>=6.0.3->modin-spreadsheet>=0.1.0->modin[all]) (0.1.4)\n",
      "Requirement already satisfied: rfc3986-validator>=0.1.1 in ./modin_cpu/lib/python3.9/site-packages (from jupyter-events>=0.9.0->jupyter-server<3,>=2.4.0->notebook>=6.0.3->modin-spreadsheet>=0.1.0->modin[all]) (0.1.1)\n",
      "Requirement already satisfied: fastjsonschema>=2.15 in ./modin_cpu/lib/python3.9/site-packages (from nbformat>=5.3.0->jupyter-server<3,>=2.4.0->notebook>=6.0.3->modin-spreadsheet>=0.1.0->modin[all]) (2.19.1)\n",
      "Requirement already satisfied: ptyprocess>=0.5 in ./modin_cpu/lib/python3.9/site-packages (from pexpect>4.3->ipython>=6.1.0->ipywidgets>=7.0.0->modin-spreadsheet>=0.1.0->modin[all]) (0.7.0)\n",
      "Requirement already satisfied: wcwidth in ./modin_cpu/lib/python3.9/site-packages (from prompt-toolkit<3.1.0,>=3.0.41->ipython>=6.1.0->ipywidgets>=7.0.0->modin-spreadsheet>=0.1.0->modin[all]) (0.2.13)\n",
      "Requirement already satisfied: soupsieve>1.2 in ./modin_cpu/lib/python3.9/site-packages (from beautifulsoup4->nbconvert->jupyter>=1.0.0->modin-spreadsheet>=0.1.0->modin[all]) (2.5)\n",
      "Requirement already satisfied: executing>=1.2.0 in ./modin_cpu/lib/python3.9/site-packages (from stack-data->ipython>=6.1.0->ipywidgets>=7.0.0->modin-spreadsheet>=0.1.0->modin[all]) (2.0.1)\n",
      "Requirement already satisfied: asttokens>=2.1.0 in ./modin_cpu/lib/python3.9/site-packages (from stack-data->ipython>=6.1.0->ipywidgets>=7.0.0->modin-spreadsheet>=0.1.0->modin[all]) (2.4.1)\n",
      "Requirement already satisfied: pure-eval in ./modin_cpu/lib/python3.9/site-packages (from stack-data->ipython>=6.1.0->ipywidgets>=7.0.0->modin-spreadsheet>=0.1.0->modin[all]) (0.2.2)\n",
      "Requirement already satisfied: fqdn in ./modin_cpu/lib/python3.9/site-packages (from jsonschema[format-nongpl]>=4.18.0->jupyter-events>=0.9.0->jupyter-server<3,>=2.4.0->notebook>=6.0.3->modin-spreadsheet>=0.1.0->modin[all]) (1.5.1)\n",
      "Requirement already satisfied: isoduration in ./modin_cpu/lib/python3.9/site-packages (from jsonschema[format-nongpl]>=4.18.0->jupyter-events>=0.9.0->jupyter-server<3,>=2.4.0->notebook>=6.0.3->modin-spreadsheet>=0.1.0->modin[all]) (20.11.0)\n",
      "Requirement already satisfied: jsonpointer>1.13 in ./modin_cpu/lib/python3.9/site-packages (from jsonschema[format-nongpl]>=4.18.0->jupyter-events>=0.9.0->jupyter-server<3,>=2.4.0->notebook>=6.0.3->modin-spreadsheet>=0.1.0->modin[all]) (2.4)\n",
      "Requirement already satisfied: uri-template in ./modin_cpu/lib/python3.9/site-packages (from jsonschema[format-nongpl]>=4.18.0->jupyter-events>=0.9.0->jupyter-server<3,>=2.4.0->notebook>=6.0.3->modin-spreadsheet>=0.1.0->modin[all]) (1.3.0)\n",
      "Requirement already satisfied: webcolors>=1.11 in ./modin_cpu/lib/python3.9/site-packages (from jsonschema[format-nongpl]>=4.18.0->jupyter-events>=0.9.0->jupyter-server<3,>=2.4.0->notebook>=6.0.3->modin-spreadsheet>=0.1.0->modin[all]) (1.13)\n",
      "Requirement already satisfied: pyasn1<0.7.0,>=0.4.6 in ./modin_cpu/lib/python3.9/site-packages (from pyasn1-modules>=0.2.1->google-auth<3.0.dev0,>=2.14.1->google-api-core<3.0.0,>=1.0.0->opencensus->ray[default]!=2.5.0,>=2.1.0; extra == \"all\"->modin[all]) (0.6.0)\n",
      "Requirement already satisfied: cffi>=1.0.1 in ./modin_cpu/lib/python3.9/site-packages (from argon2-cffi-bindings->argon2-cffi>=21.1->jupyter-server<3,>=2.4.0->notebook>=6.0.3->modin-spreadsheet>=0.1.0->modin[all]) (1.16.0)\n",
      "Requirement already satisfied: pycparser in ./modin_cpu/lib/python3.9/site-packages (from cffi>=1.0.1->argon2-cffi-bindings->argon2-cffi>=21.1->jupyter-server<3,>=2.4.0->notebook>=6.0.3->modin-spreadsheet>=0.1.0->modin[all]) (2.22)\n",
      "Requirement already satisfied: arrow>=0.15.0 in ./modin_cpu/lib/python3.9/site-packages (from isoduration->jsonschema[format-nongpl]>=4.18.0->jupyter-events>=0.9.0->jupyter-server<3,>=2.4.0->notebook>=6.0.3->modin-spreadsheet>=0.1.0->modin[all]) (1.3.0)\n",
      "Requirement already satisfied: types-python-dateutil>=2.8.10 in ./modin_cpu/lib/python3.9/site-packages (from arrow>=0.15.0->isoduration->jsonschema[format-nongpl]>=4.18.0->jupyter-events>=0.9.0->jupyter-server<3,>=2.4.0->notebook>=6.0.3->modin-spreadsheet>=0.1.0->modin[all]) (2.9.0.20240316)\n"
     ]
    }
   ],
   "source": [
    "#Install modin\n",
    "!pip install modin[all]"
   ]
  },
  {
   "cell_type": "code",
   "execution_count": 2,
   "metadata": {
    "id": "ZkRaHc7BpVwS"
   },
   "outputs": [],
   "source": [
    "#Import required libraries\n",
    "import numpy as np\n",
    "import time\n",
    "import pandas as pd\n",
    "import modin.pandas as md"
   ]
  },
  {
   "cell_type": "code",
   "execution_count": 3,
   "metadata": {
    "id": "CodfWx36s2w7"
   },
   "outputs": [],
   "source": [
    "#Create an array of random integers\n",
    "arr =np.random.randint(low=10,high=1000,size=(2**15,2**10))\n",
    "#Save it as a csv file\n",
    "np.savetxt(\"data.csv\", arr, delimiter=\",\") "
   ]
  },
  {
   "cell_type": "markdown",
   "metadata": {
    "id": "zf4c00m7vbSg"
   },
   "source": [
    "##Read csv file"
   ]
  },
  {
   "cell_type": "code",
   "execution_count": 4,
   "metadata": {
    "colab": {
     "base_uri": "https://localhost:8080/"
    },
    "id": "aTPWptuRtP-q",
    "outputId": "dae2663d-bbab-4f2b-a3d4-07effc1e0893"
   },
   "outputs": [
    {
     "name": "stdout",
     "output_type": "stream",
     "text": [
      "CPU times: user 3.3 s, sys: 245 ms, total: 3.55 s\n",
      "Wall time: 3.55 s\n"
     ]
    }
   ],
   "source": [
    "#Read data.csv file using Pandas\n",
    "%time p_df = pd.read_csv(\"data.csv\")"
   ]
  },
  {
   "cell_type": "code",
   "execution_count": 5,
   "metadata": {
    "colab": {
     "base_uri": "https://localhost:8080/"
    },
    "id": "gWeHGdBQtbAq",
    "outputId": "6653886a-636b-41a3-a6e6-1e58a57efdeb"
   },
   "outputs": [
    {
     "name": "stderr",
     "output_type": "stream",
     "text": [
      "2024-04-17 08:15:13,772\tINFO worker.py:1752 -- Started a local Ray instance.\n"
     ]
    },
    {
     "name": "stdout",
     "output_type": "stream",
     "text": [
      "CPU times: user 2.48 s, sys: 1.35 s, total: 3.83 s\n",
      "Wall time: 6.21 s\n"
     ]
    },
    {
     "name": "stderr",
     "output_type": "stream",
     "text": [
      "\u001b[33m(raylet)\u001b[0m [2024-04-17 08:15:22,668 E 1814027 1814067] (raylet) file_system_monitor.cc:111: /tmp/ray/session_2024-04-17_08-15-10_870597_1813585 is over 95% full, available space: 31807504384; capacity: 3774550081536. Object creation will fail if spilling is required.\n",
      "\u001b[33m(raylet)\u001b[0m [2024-04-17 08:15:32,680 E 1814027 1814067] (raylet) file_system_monitor.cc:111: /tmp/ray/session_2024-04-17_08-15-10_870597_1813585 is over 95% full, available space: 31807479808; capacity: 3774550081536. Object creation will fail if spilling is required.\n",
      "\u001b[33m(raylet)\u001b[0m [2024-04-17 08:15:42,694 E 1814027 1814067] (raylet) file_system_monitor.cc:111: /tmp/ray/session_2024-04-17_08-15-10_870597_1813585 is over 95% full, available space: 31807467520; capacity: 3774550081536. Object creation will fail if spilling is required.\n",
      "\u001b[33m(raylet)\u001b[0m [2024-04-17 08:15:52,707 E 1814027 1814067] (raylet) file_system_monitor.cc:111: /tmp/ray/session_2024-04-17_08-15-10_870597_1813585 is over 95% full, available space: 31807455232; capacity: 3774550081536. Object creation will fail if spilling is required.\n",
      "\u001b[33m(raylet)\u001b[0m [2024-04-17 08:16:02,719 E 1814027 1814067] (raylet) file_system_monitor.cc:111: /tmp/ray/session_2024-04-17_08-15-10_870597_1813585 is over 95% full, available space: 31807447040; capacity: 3774550081536. Object creation will fail if spilling is required.\n",
      "\u001b[33m(raylet)\u001b[0m [2024-04-17 08:16:12,732 E 1814027 1814067] (raylet) file_system_monitor.cc:111: /tmp/ray/session_2024-04-17_08-15-10_870597_1813585 is over 95% full, available space: 31805583360; capacity: 3774550081536. Object creation will fail if spilling is required.\n",
      "\u001b[33m(raylet)\u001b[0m [2024-04-17 08:16:22,746 E 1814027 1814067] (raylet) file_system_monitor.cc:111: /tmp/ray/session_2024-04-17_08-15-10_870597_1813585 is over 95% full, available space: 31804211200; capacity: 3774550081536. Object creation will fail if spilling is required.\n",
      "\u001b[33m(raylet)\u001b[0m [2024-04-17 08:16:32,759 E 1814027 1814067] (raylet) file_system_monitor.cc:111: /tmp/ray/session_2024-04-17_08-15-10_870597_1813585 is over 95% full, available space: 31804211200; capacity: 3774550081536. Object creation will fail if spilling is required.\n",
      "\u001b[33m(raylet)\u001b[0m [2024-04-17 08:16:42,772 E 1814027 1814067] (raylet) file_system_monitor.cc:111: /tmp/ray/session_2024-04-17_08-15-10_870597_1813585 is over 95% full, available space: 31804198912; capacity: 3774550081536. Object creation will fail if spilling is required.\n",
      "\u001b[33m(raylet)\u001b[0m [2024-04-17 08:16:52,784 E 1814027 1814067] (raylet) file_system_monitor.cc:111: /tmp/ray/session_2024-04-17_08-15-10_870597_1813585 is over 95% full, available space: 31804129280; capacity: 3774550081536. Object creation will fail if spilling is required.\n",
      "\u001b[33m(raylet)\u001b[0m [2024-04-17 08:17:02,797 E 1814027 1814067] (raylet) file_system_monitor.cc:111: /tmp/ray/session_2024-04-17_08-15-10_870597_1813585 is over 95% full, available space: 31804104704; capacity: 3774550081536. Object creation will fail if spilling is required.\n",
      "\u001b[33m(raylet)\u001b[0m [2024-04-17 08:17:12,810 E 1814027 1814067] (raylet) file_system_monitor.cc:111: /tmp/ray/session_2024-04-17_08-15-10_870597_1813585 is over 95% full, available space: 31804084224; capacity: 3774550081536. Object creation will fail if spilling is required.\n",
      "\u001b[33m(raylet)\u001b[0m [2024-04-17 08:17:22,821 E 1814027 1814067] (raylet) file_system_monitor.cc:111: /tmp/ray/session_2024-04-17_08-15-10_870597_1813585 is over 95% full, available space: 31802691584; capacity: 3774550081536. Object creation will fail if spilling is required.\n",
      "\u001b[33m(raylet)\u001b[0m [2024-04-17 08:17:32,836 E 1814027 1814067] (raylet) file_system_monitor.cc:111: /tmp/ray/session_2024-04-17_08-15-10_870597_1813585 is over 95% full, available space: 31802671104; capacity: 3774550081536. Object creation will fail if spilling is required.\n",
      "\u001b[33m(raylet)\u001b[0m [2024-04-17 08:17:42,847 E 1814027 1814067] (raylet) file_system_monitor.cc:111: /tmp/ray/session_2024-04-17_08-15-10_870597_1813585 is over 95% full, available space: 31802658816; capacity: 3774550081536. Object creation will fail if spilling is required.\n",
      "\u001b[33m(raylet)\u001b[0m [2024-04-17 08:17:52,859 E 1814027 1814067] (raylet) file_system_monitor.cc:111: /tmp/ray/session_2024-04-17_08-15-10_870597_1813585 is over 95% full, available space: 31802646528; capacity: 3774550081536. Object creation will fail if spilling is required.\n",
      "\u001b[33m(raylet)\u001b[0m [2024-04-17 08:18:02,872 E 1814027 1814067] (raylet) file_system_monitor.cc:111: /tmp/ray/session_2024-04-17_08-15-10_870597_1813585 is over 95% full, available space: 31800958976; capacity: 3774550081536. Object creation will fail if spilling is required.\n",
      "\u001b[33m(raylet)\u001b[0m [2024-04-17 08:18:12,884 E 1814027 1814067] (raylet) file_system_monitor.cc:111: /tmp/ray/session_2024-04-17_08-15-10_870597_1813585 is over 95% full, available space: 31798333440; capacity: 3774550081536. Object creation will fail if spilling is required.\n",
      "\u001b[33m(raylet)\u001b[0m [2024-04-17 08:18:22,896 E 1814027 1814067] (raylet) file_system_monitor.cc:111: /tmp/ray/session_2024-04-17_08-15-10_870597_1813585 is over 95% full, available space: 31796686848; capacity: 3774550081536. Object creation will fail if spilling is required.\n",
      "\u001b[33m(raylet)\u001b[0m [2024-04-17 08:18:32,908 E 1814027 1814067] (raylet) file_system_monitor.cc:111: /tmp/ray/session_2024-04-17_08-15-10_870597_1813585 is over 95% full, available space: 31796678656; capacity: 3774550081536. Object creation will fail if spilling is required.\n",
      "\u001b[33m(raylet)\u001b[0m [2024-04-17 08:18:42,919 E 1814027 1814067] (raylet) file_system_monitor.cc:111: /tmp/ray/session_2024-04-17_08-15-10_870597_1813585 is over 95% full, available space: 31796666368; capacity: 3774550081536. Object creation will fail if spilling is required.\n",
      "\u001b[33m(raylet)\u001b[0m [2024-04-17 08:18:52,928 E 1814027 1814067] (raylet) file_system_monitor.cc:111: /tmp/ray/session_2024-04-17_08-15-10_870597_1813585 is over 95% full, available space: 31796592640; capacity: 3774550081536. Object creation will fail if spilling is required.\n",
      "\u001b[33m(raylet)\u001b[0m [2024-04-17 08:19:02,942 E 1814027 1814067] (raylet) file_system_monitor.cc:111: /tmp/ray/session_2024-04-17_08-15-10_870597_1813585 is over 95% full, available space: 31796580352; capacity: 3774550081536. Object creation will fail if spilling is required.\n",
      "\u001b[33m(raylet)\u001b[0m [2024-04-17 08:19:12,955 E 1814027 1814067] (raylet) file_system_monitor.cc:111: /tmp/ray/session_2024-04-17_08-15-10_870597_1813585 is over 95% full, available space: 31796555776; capacity: 3774550081536. Object creation will fail if spilling is required.\n",
      "\u001b[33m(raylet)\u001b[0m [2024-04-17 08:19:22,967 E 1814027 1814067] (raylet) file_system_monitor.cc:111: /tmp/ray/session_2024-04-17_08-15-10_870597_1813585 is over 95% full, available space: 31795523584; capacity: 3774550081536. Object creation will fail if spilling is required.\n",
      "\u001b[33m(raylet)\u001b[0m [2024-04-17 08:19:32,980 E 1814027 1814067] (raylet) file_system_monitor.cc:111: /tmp/ray/session_2024-04-17_08-15-10_870597_1813585 is over 95% full, available space: 31794565120; capacity: 3774550081536. Object creation will fail if spilling is required.\n",
      "\u001b[33m(raylet)\u001b[0m [2024-04-17 08:19:42,993 E 1814027 1814067] (raylet) file_system_monitor.cc:111: /tmp/ray/session_2024-04-17_08-15-10_870597_1813585 is over 95% full, available space: 31794556928; capacity: 3774550081536. Object creation will fail if spilling is required.\n",
      "\u001b[33m(raylet)\u001b[0m [2024-04-17 08:19:53,005 E 1814027 1814067] (raylet) file_system_monitor.cc:111: /tmp/ray/session_2024-04-17_08-15-10_870597_1813585 is over 95% full, available space: 31794544640; capacity: 3774550081536. Object creation will fail if spilling is required.\n",
      "\u001b[33m(raylet)\u001b[0m [2024-04-17 08:20:03,017 E 1814027 1814067] (raylet) file_system_monitor.cc:111: /tmp/ray/session_2024-04-17_08-15-10_870597_1813585 is over 95% full, available space: 31794503680; capacity: 3774550081536. Object creation will fail if spilling is required.\n",
      "\u001b[33m(raylet)\u001b[0m [2024-04-17 08:20:13,030 E 1814027 1814067] (raylet) file_system_monitor.cc:111: /tmp/ray/session_2024-04-17_08-15-10_870597_1813585 is over 95% full, available space: 31794479104; capacity: 3774550081536. Object creation will fail if spilling is required.\n",
      "\u001b[33m(raylet)\u001b[0m [2024-04-17 08:20:23,043 E 1814027 1814067] (raylet) file_system_monitor.cc:111: /tmp/ray/session_2024-04-17_08-15-10_870597_1813585 is over 95% full, available space: 31792570368; capacity: 3774550081536. Object creation will fail if spilling is required.\n",
      "\u001b[33m(raylet)\u001b[0m [2024-04-17 08:20:33,055 E 1814027 1814067] (raylet) file_system_monitor.cc:111: /tmp/ray/session_2024-04-17_08-15-10_870597_1813585 is over 95% full, available space: 31792558080; capacity: 3774550081536. Object creation will fail if spilling is required.\n",
      "\u001b[33m(raylet)\u001b[0m [2024-04-17 08:20:43,068 E 1814027 1814067] (raylet) file_system_monitor.cc:111: /tmp/ray/session_2024-04-17_08-15-10_870597_1813585 is over 95% full, available space: 31792545792; capacity: 3774550081536. Object creation will fail if spilling is required.\n",
      "\u001b[33m(raylet)\u001b[0m [2024-04-17 08:20:53,081 E 1814027 1814067] (raylet) file_system_monitor.cc:111: /tmp/ray/session_2024-04-17_08-15-10_870597_1813585 is over 95% full, available space: 31792533504; capacity: 3774550081536. Object creation will fail if spilling is required.\n",
      "\u001b[33m(raylet)\u001b[0m [2024-04-17 08:21:03,094 E 1814027 1814067] (raylet) file_system_monitor.cc:111: /tmp/ray/session_2024-04-17_08-15-10_870597_1813585 is over 95% full, available space: 31792525312; capacity: 3774550081536. Object creation will fail if spilling is required.\n",
      "\u001b[33m(raylet)\u001b[0m [2024-04-17 08:21:13,106 E 1814027 1814067] (raylet) file_system_monitor.cc:111: /tmp/ray/session_2024-04-17_08-15-10_870597_1813585 is over 95% full, available space: 31792500736; capacity: 3774550081536. Object creation will fail if spilling is required.\n",
      "\u001b[33m(raylet)\u001b[0m [2024-04-17 08:21:23,119 E 1814027 1814067] (raylet) file_system_monitor.cc:111: /tmp/ray/session_2024-04-17_08-15-10_870597_1813585 is over 95% full, available space: 31791370240; capacity: 3774550081536. Object creation will fail if spilling is required.\n",
      "\u001b[33m(raylet)\u001b[0m [2024-04-17 08:21:33,131 E 1814027 1814067] (raylet) file_system_monitor.cc:111: /tmp/ray/session_2024-04-17_08-15-10_870597_1813585 is over 95% full, available space: 31791357952; capacity: 3774550081536. Object creation will fail if spilling is required.\n",
      "\u001b[33m(raylet)\u001b[0m [2024-04-17 08:21:43,143 E 1814027 1814067] (raylet) file_system_monitor.cc:111: /tmp/ray/session_2024-04-17_08-15-10_870597_1813585 is over 95% full, available space: 31791349760; capacity: 3774550081536. Object creation will fail if spilling is required.\n",
      "\u001b[33m(raylet)\u001b[0m [2024-04-17 08:21:53,156 E 1814027 1814067] (raylet) file_system_monitor.cc:111: /tmp/ray/session_2024-04-17_08-15-10_870597_1813585 is over 95% full, available space: 31791337472; capacity: 3774550081536. Object creation will fail if spilling is required.\n",
      "\u001b[33m(raylet)\u001b[0m [2024-04-17 08:22:03,167 E 1814027 1814067] (raylet) file_system_monitor.cc:111: /tmp/ray/session_2024-04-17_08-15-10_870597_1813585 is over 95% full, available space: 31791325184; capacity: 3774550081536. Object creation will fail if spilling is required.\n",
      "\u001b[33m(raylet)\u001b[0m [2024-04-17 08:22:13,179 E 1814027 1814067] (raylet) file_system_monitor.cc:111: /tmp/ray/session_2024-04-17_08-15-10_870597_1813585 is over 95% full, available space: 31791300608; capacity: 3774550081536. Object creation will fail if spilling is required.\n",
      "\u001b[33m(raylet)\u001b[0m [2024-04-17 08:22:23,190 E 1814027 1814067] (raylet) file_system_monitor.cc:111: /tmp/ray/session_2024-04-17_08-15-10_870597_1813585 is over 95% full, available space: 31789867008; capacity: 3774550081536. Object creation will fail if spilling is required.\n",
      "\u001b[33m(raylet)\u001b[0m [2024-04-17 08:22:33,201 E 1814027 1814067] (raylet) file_system_monitor.cc:111: /tmp/ray/session_2024-04-17_08-15-10_870597_1813585 is over 95% full, available space: 31789858816; capacity: 3774550081536. Object creation will fail if spilling is required.\n",
      "\u001b[33m(raylet)\u001b[0m [2024-04-17 08:22:43,213 E 1814027 1814067] (raylet) file_system_monitor.cc:111: /tmp/ray/session_2024-04-17_08-15-10_870597_1813585 is over 95% full, available space: 31789846528; capacity: 3774550081536. Object creation will fail if spilling is required.\n",
      "\u001b[33m(raylet)\u001b[0m [2024-04-17 08:22:53,225 E 1814027 1814067] (raylet) file_system_monitor.cc:111: /tmp/ray/session_2024-04-17_08-15-10_870597_1813585 is over 95% full, available space: 31789834240; capacity: 3774550081536. Object creation will fail if spilling is required.\n",
      "\u001b[33m(raylet)\u001b[0m [2024-04-17 08:23:03,237 E 1814027 1814067] (raylet) file_system_monitor.cc:111: /tmp/ray/session_2024-04-17_08-15-10_870597_1813585 is over 95% full, available space: 31789821952; capacity: 3774550081536. Object creation will fail if spilling is required.\n",
      "\u001b[33m(raylet)\u001b[0m [2024-04-17 08:23:13,249 E 1814027 1814067] (raylet) file_system_monitor.cc:111: /tmp/ray/session_2024-04-17_08-15-10_870597_1813585 is over 95% full, available space: 31789789184; capacity: 3774550081536. Object creation will fail if spilling is required.\n",
      "\u001b[33m(raylet)\u001b[0m [2024-04-17 08:23:23,260 E 1814027 1814067] (raylet) file_system_monitor.cc:111: /tmp/ray/session_2024-04-17_08-15-10_870597_1813585 is over 95% full, available space: 31788191744; capacity: 3774550081536. Object creation will fail if spilling is required.\n",
      "\u001b[33m(raylet)\u001b[0m [2024-04-17 08:23:33,271 E 1814027 1814067] (raylet) file_system_monitor.cc:111: /tmp/ray/session_2024-04-17_08-15-10_870597_1813585 is over 95% full, available space: 31788179456; capacity: 3774550081536. Object creation will fail if spilling is required.\n",
      "\u001b[33m(raylet)\u001b[0m [2024-04-17 08:23:43,284 E 1814027 1814067] (raylet) file_system_monitor.cc:111: /tmp/ray/session_2024-04-17_08-15-10_870597_1813585 is over 95% full, available space: 31788167168; capacity: 3774550081536. Object creation will fail if spilling is required.\n",
      "\u001b[33m(raylet)\u001b[0m [2024-04-17 08:23:53,298 E 1814027 1814067] (raylet) file_system_monitor.cc:111: /tmp/ray/session_2024-04-17_08-15-10_870597_1813585 is over 95% full, available space: 31788158976; capacity: 3774550081536. Object creation will fail if spilling is required.\n",
      "\u001b[33m(raylet)\u001b[0m [2024-04-17 08:24:03,309 E 1814027 1814067] (raylet) file_system_monitor.cc:111: /tmp/ray/session_2024-04-17_08-15-10_870597_1813585 is over 95% full, available space: 31788146688; capacity: 3774550081536. Object creation will fail if spilling is required.\n",
      "\u001b[33m(raylet)\u001b[0m [2024-04-17 08:24:13,320 E 1814027 1814067] (raylet) file_system_monitor.cc:111: /tmp/ray/session_2024-04-17_08-15-10_870597_1813585 is over 95% full, available space: 31788122112; capacity: 3774550081536. Object creation will fail if spilling is required.\n",
      "\u001b[33m(raylet)\u001b[0m [2024-04-17 08:24:23,330 E 1814027 1814067] (raylet) file_system_monitor.cc:111: /tmp/ray/session_2024-04-17_08-15-10_870597_1813585 is over 95% full, available space: 31787094016; capacity: 3774550081536. Object creation will fail if spilling is required.\n",
      "\u001b[33m(raylet)\u001b[0m [2024-04-17 08:24:33,343 E 1814027 1814067] (raylet) file_system_monitor.cc:111: /tmp/ray/session_2024-04-17_08-15-10_870597_1813585 is over 95% full, available space: 31787081728; capacity: 3774550081536. Object creation will fail if spilling is required.\n",
      "\u001b[33m(raylet)\u001b[0m [2024-04-17 08:24:43,355 E 1814027 1814067] (raylet) file_system_monitor.cc:111: /tmp/ray/session_2024-04-17_08-15-10_870597_1813585 is over 95% full, available space: 31787073536; capacity: 3774550081536. Object creation will fail if spilling is required.\n",
      "\u001b[33m(raylet)\u001b[0m [2024-04-17 08:24:53,367 E 1814027 1814067] (raylet) file_system_monitor.cc:111: /tmp/ray/session_2024-04-17_08-15-10_870597_1813585 is over 95% full, available space: 31787061248; capacity: 3774550081536. Object creation will fail if spilling is required.\n",
      "\u001b[33m(raylet)\u001b[0m [2024-04-17 08:25:03,379 E 1814027 1814067] (raylet) file_system_monitor.cc:111: /tmp/ray/session_2024-04-17_08-15-10_870597_1813585 is over 95% full, available space: 31787048960; capacity: 3774550081536. Object creation will fail if spilling is required.\n",
      "\u001b[33m(raylet)\u001b[0m [2024-04-17 08:25:13,391 E 1814027 1814067] (raylet) file_system_monitor.cc:111: /tmp/ray/session_2024-04-17_08-15-10_870597_1813585 is over 95% full, available space: 31787028480; capacity: 3774550081536. Object creation will fail if spilling is required.\n",
      "\u001b[33m(raylet)\u001b[0m [2024-04-17 08:25:23,403 E 1814027 1814067] (raylet) file_system_monitor.cc:111: /tmp/ray/session_2024-04-17_08-15-10_870597_1813585 is over 95% full, available space: 31785029632; capacity: 3774550081536. Object creation will fail if spilling is required.\n",
      "\u001b[33m(raylet)\u001b[0m [2024-04-17 08:25:33,415 E 1814027 1814067] (raylet) file_system_monitor.cc:111: /tmp/ray/session_2024-04-17_08-15-10_870597_1813585 is over 95% full, available space: 31785013248; capacity: 3774550081536. Object creation will fail if spilling is required.\n",
      "\u001b[33m(raylet)\u001b[0m [2024-04-17 08:25:43,426 E 1814027 1814067] (raylet) file_system_monitor.cc:111: /tmp/ray/session_2024-04-17_08-15-10_870597_1813585 is over 95% full, available space: 31785000960; capacity: 3774550081536. Object creation will fail if spilling is required.\n",
      "\u001b[33m(raylet)\u001b[0m [2024-04-17 08:25:53,438 E 1814027 1814067] (raylet) file_system_monitor.cc:111: /tmp/ray/session_2024-04-17_08-15-10_870597_1813585 is over 95% full, available space: 31784976384; capacity: 3774550081536. Object creation will fail if spilling is required.\n",
      "\u001b[33m(raylet)\u001b[0m [2024-04-17 08:26:03,449 E 1814027 1814067] (raylet) file_system_monitor.cc:111: /tmp/ray/session_2024-04-17_08-15-10_870597_1813585 is over 95% full, available space: 31784968192; capacity: 3774550081536. Object creation will fail if spilling is required.\n",
      "\u001b[33m(raylet)\u001b[0m [2024-04-17 08:26:13,462 E 1814027 1814067] (raylet) file_system_monitor.cc:111: /tmp/ray/session_2024-04-17_08-15-10_870597_1813585 is over 95% full, available space: 31784947712; capacity: 3774550081536. Object creation will fail if spilling is required.\n",
      "\u001b[33m(raylet)\u001b[0m [2024-04-17 08:26:23,474 E 1814027 1814067] (raylet) file_system_monitor.cc:111: /tmp/ray/session_2024-04-17_08-15-10_870597_1813585 is over 95% full, available space: 31783911424; capacity: 3774550081536. Object creation will fail if spilling is required.\n",
      "\u001b[33m(raylet)\u001b[0m [2024-04-17 08:26:33,486 E 1814027 1814067] (raylet) file_system_monitor.cc:111: /tmp/ray/session_2024-04-17_08-15-10_870597_1813585 is over 95% full, available space: 31783903232; capacity: 3774550081536. Object creation will fail if spilling is required.\n",
      "\u001b[33m(raylet)\u001b[0m [2024-04-17 08:26:43,497 E 1814027 1814067] (raylet) file_system_monitor.cc:111: /tmp/ray/session_2024-04-17_08-15-10_870597_1813585 is over 95% full, available space: 31783890944; capacity: 3774550081536. Object creation will fail if spilling is required.\n",
      "\u001b[33m(raylet)\u001b[0m [2024-04-17 08:26:53,508 E 1814027 1814067] (raylet) file_system_monitor.cc:111: /tmp/ray/session_2024-04-17_08-15-10_870597_1813585 is over 95% full, available space: 31783878656; capacity: 3774550081536. Object creation will fail if spilling is required.\n",
      "\u001b[33m(raylet)\u001b[0m [2024-04-17 08:27:03,519 E 1814027 1814067] (raylet) file_system_monitor.cc:111: /tmp/ray/session_2024-04-17_08-15-10_870597_1813585 is over 95% full, available space: 31783870464; capacity: 3774550081536. Object creation will fail if spilling is required.\n",
      "\u001b[33m(raylet)\u001b[0m [2024-04-17 08:27:13,531 E 1814027 1814067] (raylet) file_system_monitor.cc:111: /tmp/ray/session_2024-04-17_08-15-10_870597_1813585 is over 95% full, available space: 31783841792; capacity: 3774550081536. Object creation will fail if spilling is required.\n",
      "\u001b[33m(raylet)\u001b[0m [2024-04-17 08:27:23,544 E 1814027 1814067] (raylet) file_system_monitor.cc:111: /tmp/ray/session_2024-04-17_08-15-10_870597_1813585 is over 95% full, available space: 31781892096; capacity: 3774550081536. Object creation will fail if spilling is required.\n",
      "\u001b[33m(raylet)\u001b[0m [2024-04-17 08:27:33,555 E 1814027 1814067] (raylet) file_system_monitor.cc:111: /tmp/ray/session_2024-04-17_08-15-10_870597_1813585 is over 95% full, available space: 31781875712; capacity: 3774550081536. Object creation will fail if spilling is required.\n",
      "\u001b[33m(raylet)\u001b[0m [2024-04-17 08:27:43,567 E 1814027 1814067] (raylet) file_system_monitor.cc:111: /tmp/ray/session_2024-04-17_08-15-10_870597_1813585 is over 95% full, available space: 31781859328; capacity: 3774550081536. Object creation will fail if spilling is required.\n",
      "\u001b[33m(raylet)\u001b[0m [2024-04-17 08:27:53,580 E 1814027 1814067] (raylet) file_system_monitor.cc:111: /tmp/ray/session_2024-04-17_08-15-10_870597_1813585 is over 95% full, available space: 31781851136; capacity: 3774550081536. Object creation will fail if spilling is required.\n",
      "\u001b[33m(raylet)\u001b[0m [2024-04-17 08:28:03,591 E 1814027 1814067] (raylet) file_system_monitor.cc:111: /tmp/ray/session_2024-04-17_08-15-10_870597_1813585 is over 95% full, available space: 31781842944; capacity: 3774550081536. Object creation will fail if spilling is required.\n",
      "\u001b[33m(raylet)\u001b[0m [2024-04-17 08:28:13,603 E 1814027 1814067] (raylet) file_system_monitor.cc:111: /tmp/ray/session_2024-04-17_08-15-10_870597_1813585 is over 95% full, available space: 31781818368; capacity: 3774550081536. Object creation will fail if spilling is required.\n",
      "\u001b[33m(raylet)\u001b[0m [2024-04-17 08:28:23,616 E 1814027 1814067] (raylet) file_system_monitor.cc:111: /tmp/ray/session_2024-04-17_08-15-10_870597_1813585 is over 95% full, available space: 31780741120; capacity: 3774550081536. Object creation will fail if spilling is required.\n",
      "\u001b[33m(raylet)\u001b[0m [2024-04-17 08:28:33,627 E 1814027 1814067] (raylet) file_system_monitor.cc:111: /tmp/ray/session_2024-04-17_08-15-10_870597_1813585 is over 95% full, available space: 31780728832; capacity: 3774550081536. Object creation will fail if spilling is required.\n",
      "\u001b[33m(raylet)\u001b[0m [2024-04-17 08:28:43,641 E 1814027 1814067] (raylet) file_system_monitor.cc:111: /tmp/ray/session_2024-04-17_08-15-10_870597_1813585 is over 95% full, available space: 31780708352; capacity: 3774550081536. Object creation will fail if spilling is required.\n",
      "\u001b[33m(raylet)\u001b[0m [2024-04-17 08:28:53,653 E 1814027 1814067] (raylet) file_system_monitor.cc:111: /tmp/ray/session_2024-04-17_08-15-10_870597_1813585 is over 95% full, available space: 31780696064; capacity: 3774550081536. Object creation will fail if spilling is required.\n",
      "\u001b[33m(raylet)\u001b[0m [2024-04-17 08:29:03,664 E 1814027 1814067] (raylet) file_system_monitor.cc:111: /tmp/ray/session_2024-04-17_08-15-10_870597_1813585 is over 95% full, available space: 31780683776; capacity: 3774550081536. Object creation will fail if spilling is required.\n",
      "\u001b[33m(raylet)\u001b[0m [2024-04-17 08:29:13,676 E 1814027 1814067] (raylet) file_system_monitor.cc:111: /tmp/ray/session_2024-04-17_08-15-10_870597_1813585 is over 95% full, available space: 31780663296; capacity: 3774550081536. Object creation will fail if spilling is required.\n",
      "\u001b[33m(raylet)\u001b[0m [2024-04-17 08:29:23,689 E 1814027 1814067] (raylet) file_system_monitor.cc:111: /tmp/ray/session_2024-04-17_08-15-10_870597_1813585 is over 95% full, available space: 31778988032; capacity: 3774550081536. Object creation will fail if spilling is required.\n",
      "\u001b[33m(raylet)\u001b[0m [2024-04-17 08:29:33,701 E 1814027 1814067] (raylet) file_system_monitor.cc:111: /tmp/ray/session_2024-04-17_08-15-10_870597_1813585 is over 95% full, available space: 31778967552; capacity: 3774550081536. Object creation will fail if spilling is required.\n",
      "\u001b[33m(raylet)\u001b[0m [2024-04-17 08:29:43,713 E 1814027 1814067] (raylet) file_system_monitor.cc:111: /tmp/ray/session_2024-04-17_08-15-10_870597_1813585 is over 95% full, available space: 31778959360; capacity: 3774550081536. Object creation will fail if spilling is required.\n",
      "\u001b[33m(raylet)\u001b[0m [2024-04-17 08:29:53,726 E 1814027 1814067] (raylet) file_system_monitor.cc:111: /tmp/ray/session_2024-04-17_08-15-10_870597_1813585 is over 95% full, available space: 31778951168; capacity: 3774550081536. Object creation will fail if spilling is required.\n",
      "\u001b[33m(raylet)\u001b[0m [2024-04-17 08:30:03,739 E 1814027 1814067] (raylet) file_system_monitor.cc:111: /tmp/ray/session_2024-04-17_08-15-10_870597_1813585 is over 95% full, available space: 31778938880; capacity: 3774550081536. Object creation will fail if spilling is required.\n",
      "\u001b[33m(raylet)\u001b[0m [2024-04-17 08:30:13,752 E 1814027 1814067] (raylet) file_system_monitor.cc:111: /tmp/ray/session_2024-04-17_08-15-10_870597_1813585 is over 95% full, available space: 31778856960; capacity: 3774550081536. Object creation will fail if spilling is required.\n",
      "\u001b[33m(raylet)\u001b[0m [2024-04-17 08:30:23,763 E 1814027 1814067] (raylet) file_system_monitor.cc:111: /tmp/ray/session_2024-04-17_08-15-10_870597_1813585 is over 95% full, available space: 31777525760; capacity: 3774550081536. Object creation will fail if spilling is required.\n",
      "\u001b[33m(raylet)\u001b[0m [2024-04-17 08:30:33,776 E 1814027 1814067] (raylet) file_system_monitor.cc:111: /tmp/ray/session_2024-04-17_08-15-10_870597_1813585 is over 95% full, available space: 31777513472; capacity: 3774550081536. Object creation will fail if spilling is required.\n",
      "\u001b[33m(raylet)\u001b[0m [2024-04-17 08:30:43,788 E 1814027 1814067] (raylet) file_system_monitor.cc:111: /tmp/ray/session_2024-04-17_08-15-10_870597_1813585 is over 95% full, available space: 31777505280; capacity: 3774550081536. Object creation will fail if spilling is required.\n",
      "\u001b[33m(raylet)\u001b[0m [2024-04-17 08:30:53,801 E 1814027 1814067] (raylet) file_system_monitor.cc:111: /tmp/ray/session_2024-04-17_08-15-10_870597_1813585 is over 95% full, available space: 31777492992; capacity: 3774550081536. Object creation will fail if spilling is required.\n",
      "\u001b[33m(raylet)\u001b[0m [2024-04-17 08:31:03,814 E 1814027 1814067] (raylet) file_system_monitor.cc:111: /tmp/ray/session_2024-04-17_08-15-10_870597_1813585 is over 95% full, available space: 31777484800; capacity: 3774550081536. Object creation will fail if spilling is required.\n",
      "\u001b[33m(raylet)\u001b[0m [2024-04-17 08:31:13,826 E 1814027 1814067] (raylet) file_system_monitor.cc:111: /tmp/ray/session_2024-04-17_08-15-10_870597_1813585 is over 95% full, available space: 31777435648; capacity: 3774550081536. Object creation will fail if spilling is required.\n",
      "\u001b[33m(raylet)\u001b[0m [2024-04-17 08:31:23,839 E 1814027 1814067] (raylet) file_system_monitor.cc:111: /tmp/ray/session_2024-04-17_08-15-10_870597_1813585 is over 95% full, available space: 31775969280; capacity: 3774550081536. Object creation will fail if spilling is required.\n",
      "\u001b[33m(raylet)\u001b[0m [2024-04-17 08:31:33,852 E 1814027 1814067] (raylet) file_system_monitor.cc:111: /tmp/ray/session_2024-04-17_08-15-10_870597_1813585 is over 95% full, available space: 31775956992; capacity: 3774550081536. Object creation will fail if spilling is required.\n",
      "\u001b[33m(raylet)\u001b[0m [2024-04-17 08:31:43,862 E 1814027 1814067] (raylet) file_system_monitor.cc:111: /tmp/ray/session_2024-04-17_08-15-10_870597_1813585 is over 95% full, available space: 31775944704; capacity: 3774550081536. Object creation will fail if spilling is required.\n",
      "\u001b[33m(raylet)\u001b[0m [2024-04-17 08:31:53,873 E 1814027 1814067] (raylet) file_system_monitor.cc:111: /tmp/ray/session_2024-04-17_08-15-10_870597_1813585 is over 95% full, available space: 31775932416; capacity: 3774550081536. Object creation will fail if spilling is required.\n",
      "\u001b[33m(raylet)\u001b[0m [2024-04-17 08:32:03,886 E 1814027 1814067] (raylet) file_system_monitor.cc:111: /tmp/ray/session_2024-04-17_08-15-10_870597_1813585 is over 95% full, available space: 31775924224; capacity: 3774550081536. Object creation will fail if spilling is required.\n",
      "\u001b[33m(raylet)\u001b[0m [2024-04-17 08:32:13,897 E 1814027 1814067] (raylet) file_system_monitor.cc:111: /tmp/ray/session_2024-04-17_08-15-10_870597_1813585 is over 95% full, available space: 31775875072; capacity: 3774550081536. Object creation will fail if spilling is required.\n",
      "\u001b[33m(raylet)\u001b[0m [2024-04-17 08:32:23,909 E 1814027 1814067] (raylet) file_system_monitor.cc:111: /tmp/ray/session_2024-04-17_08-15-10_870597_1813585 is over 95% full, available space: 31774343168; capacity: 3774550081536. Object creation will fail if spilling is required.\n",
      "\u001b[33m(raylet)\u001b[0m [2024-04-17 08:32:33,921 E 1814027 1814067] (raylet) file_system_monitor.cc:111: /tmp/ray/session_2024-04-17_08-15-10_870597_1813585 is over 95% full, available space: 31774334976; capacity: 3774550081536. Object creation will fail if spilling is required.\n",
      "\u001b[33m(raylet)\u001b[0m [2024-04-17 08:32:43,932 E 1814027 1814067] (raylet) file_system_monitor.cc:111: /tmp/ray/session_2024-04-17_08-15-10_870597_1813585 is over 95% full, available space: 31774322688; capacity: 3774550081536. Object creation will fail if spilling is required.\n",
      "\u001b[33m(raylet)\u001b[0m [2024-04-17 08:32:53,945 E 1814027 1814067] (raylet) file_system_monitor.cc:111: /tmp/ray/session_2024-04-17_08-15-10_870597_1813585 is over 95% full, available space: 31774314496; capacity: 3774550081536. Object creation will fail if spilling is required.\n",
      "\u001b[33m(raylet)\u001b[0m [2024-04-17 08:33:03,956 E 1814027 1814067] (raylet) file_system_monitor.cc:111: /tmp/ray/session_2024-04-17_08-15-10_870597_1813585 is over 95% full, available space: 31774306304; capacity: 3774550081536. Object creation will fail if spilling is required.\n",
      "\u001b[33m(raylet)\u001b[0m [2024-04-17 08:33:13,968 E 1814027 1814067] (raylet) file_system_monitor.cc:111: /tmp/ray/session_2024-04-17_08-15-10_870597_1813585 is over 95% full, available space: 31774248960; capacity: 3774550081536. Object creation will fail if spilling is required.\n",
      "\u001b[33m(raylet)\u001b[0m [2024-04-17 08:33:23,981 E 1814027 1814067] (raylet) file_system_monitor.cc:111: /tmp/ray/session_2024-04-17_08-15-10_870597_1813585 is over 95% full, available space: 31772884992; capacity: 3774550081536. Object creation will fail if spilling is required.\n"
     ]
    }
   ],
   "source": [
    "#Read data.csv file using Modin\n",
    "%time m_df = md.read_csv(\"data.csv\")"
   ]
  },
  {
   "cell_type": "markdown",
   "metadata": {
    "id": "1s8fPqyPvlFv"
   },
   "source": [
    "##Mean operation"
   ]
  },
  {
   "cell_type": "code",
   "execution_count": 6,
   "metadata": {
    "colab": {
     "base_uri": "https://localhost:8080/"
    },
    "id": "UWN_-t6It6tC",
    "outputId": "123d1d17-35e7-4d2c-c2dc-bac7deb7fc7d"
   },
   "outputs": [
    {
     "name": "stdout",
     "output_type": "stream",
     "text": [
      "CPU times: user 59.8 ms, sys: 7.42 ms, total: 67.2 ms\n",
      "Wall time: 64.9 ms\n"
     ]
    },
    {
     "data": {
      "text/plain": [
       "5.040000000000000000e+02      503.142918\n",
       "5.540000000000000000e+02      504.697592\n",
       "5.600000000000000000e+02      504.863521\n",
       "6.520000000000000000e+02      503.288858\n",
       "2.310000000000000000e+02      502.421155\n",
       "                                 ...    \n",
       "2.020000000000000000e+02.1    505.973083\n",
       "4.510000000000000000e+02.1    501.196142\n",
       "9.670000000000000000e+02.1    503.373241\n",
       "8.490000000000000000e+02.2    502.803827\n",
       "8.430000000000000000e+02      504.052858\n",
       "Length: 1024, dtype: float64"
      ]
     },
     "execution_count": 6,
     "metadata": {},
     "output_type": "execute_result"
    }
   ],
   "source": [
    "#Compute mean of each numerical column using Pandas\n",
    "%time p_df.mean(axis=0)"
   ]
  },
  {
   "cell_type": "code",
   "execution_count": 7,
   "metadata": {
    "colab": {
     "base_uri": "https://localhost:8080/"
    },
    "id": "XD1eg8XeuRnl",
    "outputId": "509f670c-981d-4b7d-dc3d-004eb598aac4"
   },
   "outputs": [
    {
     "name": "stdout",
     "output_type": "stream",
     "text": [
      "CPU times: user 19.7 s, sys: 3.58 s, total: 23.3 s\n",
      "Wall time: 8.24 s\n"
     ]
    },
    {
     "data": {
      "text/plain": [
       "5.040000000000000000e+02      503.142918\n",
       "5.540000000000000000e+02      504.697592\n",
       "5.600000000000000000e+02      504.863521\n",
       "6.520000000000000000e+02      503.288858\n",
       "2.310000000000000000e+02      502.421155\n",
       "                                 ...    \n",
       "2.020000000000000000e+02.1    505.973083\n",
       "4.510000000000000000e+02.1    501.196142\n",
       "9.670000000000000000e+02.1    503.373241\n",
       "8.490000000000000000e+02.2    502.803827\n",
       "8.430000000000000000e+02      504.052858\n",
       "Length: 1024, dtype: float64"
      ]
     },
     "execution_count": 7,
     "metadata": {},
     "output_type": "execute_result"
    }
   ],
   "source": [
    "#Compute mean of each numerical column using Modin\n",
    "%time m_df.mean(axis=0)"
   ]
  },
  {
   "cell_type": "markdown",
   "metadata": {
    "id": "CAPFCSPWvqu3"
   },
   "source": [
    "##Concatenation"
   ]
  }
 ],
 "metadata": {
  "accelerator": "GPU",
  "colab": {
   "collapsed_sections": [],
   "name": "Modin_Vs_Pandas.ipynb",
   "provenance": []
  },
  "kernelspec": {
   "display_name": "modin_cpu",
   "language": "python",
   "name": "modin_cpu"
  },
  "language_info": {
   "codemirror_mode": {
    "name": "ipython",
    "version": 3
   },
   "file_extension": ".py",
   "mimetype": "text/x-python",
   "name": "python",
   "nbconvert_exporter": "python",
   "pygments_lexer": "ipython3",
   "version": "3.9.15"
  }
 },
 "nbformat": 4,
 "nbformat_minor": 4
}
